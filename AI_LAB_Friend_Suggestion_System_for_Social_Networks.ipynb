{
  "nbformat": 4,
  "nbformat_minor": 0,
  "metadata": {
    "colab": {
      "name": "Copy of AI LAB - Friend Suggestion System for Social Networks",
      "provenance": [],
      "include_colab_link": true
    },
    "kernelspec": {
      "name": "python3",
      "display_name": "Python 3"
    },
    "language_info": {
      "name": "python"
    }
  },
  "cells": [
    {
      "cell_type": "markdown",
      "metadata": {
        "id": "view-in-github",
        "colab_type": "text"
      },
      "source": [
        "<a href=\"https://colab.research.google.com/github/SwethaMagesh/Friend-Suggestion-using-AI/blob/main/AI_LAB_Friend_Suggestion_System_for_Social_Networks.ipynb\" target=\"_parent\"><img src=\"https://colab.research.google.com/assets/colab-badge.svg\" alt=\"Open In Colab\"/></a>"
      ]
    },
    {
      "cell_type": "code",
      "metadata": {
        "id": "eDB3_c0s6R2Y"
      },
      "source": [
        "#start code here\n",
        "import numpy as np\n",
        "import networkx as nx\n",
        "import mathplotlib as plt\n"
      ],
      "execution_count": null,
      "outputs": []
    },
    {
      "cell_type": "markdown",
      "metadata": {
        "id": "RIwHnY4CAj0s"
      },
      "source": [
        "GET DATA FROM CSV file "
      ]
    },
    {
      "cell_type": "code",
      "metadata": {
        "id": "nbb4gp87AnSr"
      },
      "source": [
        ""
      ],
      "execution_count": null,
      "outputs": []
    },
    {
      "cell_type": "markdown",
      "metadata": {
        "id": "wCm9c_-FAoJE"
      },
      "source": [
        "Represent as graph data structures ( nodes , edges )"
      ]
    },
    {
      "cell_type": "code",
      "metadata": {
        "id": "KlO5DI7FAtXk"
      },
      "source": [
        ""
      ],
      "execution_count": null,
      "outputs": []
    },
    {
      "cell_type": "markdown",
      "metadata": {
        "id": "KRCAXWNnAuOV"
      },
      "source": [
        "Visualise the graph with networkx library"
      ]
    },
    {
      "cell_type": "code",
      "metadata": {
        "id": "3WgfL63zA0RM"
      },
      "source": [
        ""
      ],
      "execution_count": null,
      "outputs": []
    },
    {
      "cell_type": "markdown",
      "metadata": {
        "id": "xjG7l4zkA0vP"
      },
      "source": [
        ""
      ]
    }
  ]
}