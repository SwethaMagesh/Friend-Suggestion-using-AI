{
  "nbformat": 4,
  "nbformat_minor": 0,
  "metadata": {
    "colab": {
      "name": "Copy of AI LAB - Friend Suggestion System for Social Networks",
      "provenance": [],
      "collapsed_sections": [],
      "include_colab_link": true
    },
    "kernelspec": {
      "name": "python3",
      "display_name": "Python 3"
    },
    "language_info": {
      "name": "python"
    }
  },
  "cells": [
    {
      "cell_type": "markdown",
      "metadata": {
        "id": "view-in-github",
        "colab_type": "text"
      },
      "source": [
        "<a href=\"https://colab.research.google.com/github/SwethaMagesh/Friend-Suggestion-using-AI/blob/main/AI_LAB_Friend_Suggestion_System_for_Social_Networks.ipynb\" target=\"_parent\"><img src=\"https://colab.research.google.com/assets/colab-badge.svg\" alt=\"Open In Colab\"/></a>"
      ]
    },
    {
      "cell_type": "code",
      "metadata": {
        "id": "eDB3_c0s6R2Y"
      },
      "source": [
        "#start code here\n",
        "import numpy as np\n",
        "import networkx as nx\n",
        "import matplotlib.pyplot as plt\n",
        "import pandas as pd"
      ],
      "execution_count": 1,
      "outputs": []
    },
    {
      "cell_type": "markdown",
      "metadata": {
        "id": "RIwHnY4CAj0s"
      },
      "source": [
        "GET DATA FROM CSV file "
      ]
    },
    {
      "cell_type": "code",
      "metadata": {
        "colab": {
          "base_uri": "https://localhost:8080/",
          "height": 203
        },
        "id": "nbb4gp87AnSr",
        "outputId": "86d031aa-aa43-43b4-f54c-a86f659cf48a"
      },
      "source": [
        "\n",
        "edge_list_df = pd.read_csv(\"/content/Temporary Data - Edges.csv\")\n",
        "node_list_df = pd.read_csv(\"/content/Temporary Data - Node details.csv\")\n",
        "node_list_df.head()\n"
      ],
      "execution_count": 2,
      "outputs": [
        {
          "output_type": "execute_result",
          "data": {
            "text/html": [
              "<div>\n",
              "<style scoped>\n",
              "    .dataframe tbody tr th:only-of-type {\n",
              "        vertical-align: middle;\n",
              "    }\n",
              "\n",
              "    .dataframe tbody tr th {\n",
              "        vertical-align: top;\n",
              "    }\n",
              "\n",
              "    .dataframe thead th {\n",
              "        text-align: right;\n",
              "    }\n",
              "</style>\n",
              "<table border=\"1\" class=\"dataframe\">\n",
              "  <thead>\n",
              "    <tr style=\"text-align: right;\">\n",
              "      <th></th>\n",
              "      <th>Node ID</th>\n",
              "      <th>Name</th>\n",
              "      <th>Location</th>\n",
              "      <th>Language</th>\n",
              "      <th>Occupation</th>\n",
              "      <th>School</th>\n",
              "      <th>Company</th>\n",
              "      <th>Interests</th>\n",
              "      <th>Age Group</th>\n",
              "    </tr>\n",
              "  </thead>\n",
              "  <tbody>\n",
              "    <tr>\n",
              "      <th>0</th>\n",
              "      <td>1</td>\n",
              "      <td>Aishvarya</td>\n",
              "      <td>Coimbatore</td>\n",
              "      <td>Tamil</td>\n",
              "      <td>Software Engineer</td>\n",
              "      <td>PSG</td>\n",
              "      <td>Microsoft</td>\n",
              "      <td>Orator, Movies</td>\n",
              "      <td>Young</td>\n",
              "    </tr>\n",
              "    <tr>\n",
              "      <th>1</th>\n",
              "      <td>2</td>\n",
              "      <td>Bianca</td>\n",
              "      <td>Chennai</td>\n",
              "      <td>Tamil</td>\n",
              "      <td>Software Engineer</td>\n",
              "      <td>PSG</td>\n",
              "      <td>Wipro</td>\n",
              "      <td>Music, Books</td>\n",
              "      <td>Young</td>\n",
              "    </tr>\n",
              "    <tr>\n",
              "      <th>2</th>\n",
              "      <td>3</td>\n",
              "      <td>Deepthi</td>\n",
              "      <td>Madurai</td>\n",
              "      <td>Tamil</td>\n",
              "      <td>Software Engineer</td>\n",
              "      <td>PSG</td>\n",
              "      <td>Delloite</td>\n",
              "      <td>Movies, Music</td>\n",
              "      <td>Young</td>\n",
              "    </tr>\n",
              "    <tr>\n",
              "      <th>3</th>\n",
              "      <td>4</td>\n",
              "      <td>Dhilip</td>\n",
              "      <td>Coimbatore</td>\n",
              "      <td>Telugu</td>\n",
              "      <td>Software Engineer</td>\n",
              "      <td>PSG</td>\n",
              "      <td>JPMC</td>\n",
              "      <td>Tech, Quotes</td>\n",
              "      <td>Young</td>\n",
              "    </tr>\n",
              "    <tr>\n",
              "      <th>4</th>\n",
              "      <td>5</td>\n",
              "      <td>Harshini</td>\n",
              "      <td>Ramanathapuram</td>\n",
              "      <td>Tamil</td>\n",
              "      <td>Software Engineer</td>\n",
              "      <td>PSG</td>\n",
              "      <td>Oracle</td>\n",
              "      <td>Movies, Cooking</td>\n",
              "      <td>Young</td>\n",
              "    </tr>\n",
              "  </tbody>\n",
              "</table>\n",
              "</div>"
            ],
            "text/plain": [
              "   Node ID       Name        Location  ...    Company        Interests Age Group\n",
              "0        1  Aishvarya      Coimbatore  ...  Microsoft   Orator, Movies     Young\n",
              "1        2     Bianca         Chennai  ...      Wipro     Music, Books     Young\n",
              "2        3    Deepthi         Madurai  ...   Delloite    Movies, Music     Young\n",
              "3        4     Dhilip      Coimbatore  ...       JPMC     Tech, Quotes     Young\n",
              "4        5   Harshini  Ramanathapuram  ...     Oracle  Movies, Cooking     Young\n",
              "\n",
              "[5 rows x 9 columns]"
            ]
          },
          "metadata": {},
          "execution_count": 2
        }
      ]
    },
    {
      "cell_type": "code",
      "metadata": {
        "colab": {
          "base_uri": "https://localhost:8080/",
          "height": 203
        },
        "id": "gejcKnsKEVPj",
        "outputId": "2f2538b7-b585-4990-b297-cb625e9bf7a2"
      },
      "source": [
        "edge_list_df.head()"
      ],
      "execution_count": 3,
      "outputs": [
        {
          "output_type": "execute_result",
          "data": {
            "text/html": [
              "<div>\n",
              "<style scoped>\n",
              "    .dataframe tbody tr th:only-of-type {\n",
              "        vertical-align: middle;\n",
              "    }\n",
              "\n",
              "    .dataframe tbody tr th {\n",
              "        vertical-align: top;\n",
              "    }\n",
              "\n",
              "    .dataframe thead th {\n",
              "        text-align: right;\n",
              "    }\n",
              "</style>\n",
              "<table border=\"1\" class=\"dataframe\">\n",
              "  <thead>\n",
              "    <tr style=\"text-align: right;\">\n",
              "      <th></th>\n",
              "      <th>Edge ID</th>\n",
              "      <th>Node 1</th>\n",
              "      <th>Node 2</th>\n",
              "    </tr>\n",
              "  </thead>\n",
              "  <tbody>\n",
              "    <tr>\n",
              "      <th>0</th>\n",
              "      <td>1</td>\n",
              "      <td>1</td>\n",
              "      <td>18</td>\n",
              "    </tr>\n",
              "    <tr>\n",
              "      <th>1</th>\n",
              "      <td>2</td>\n",
              "      <td>2</td>\n",
              "      <td>12</td>\n",
              "    </tr>\n",
              "    <tr>\n",
              "      <th>2</th>\n",
              "      <td>3</td>\n",
              "      <td>8</td>\n",
              "      <td>12</td>\n",
              "    </tr>\n",
              "    <tr>\n",
              "      <th>3</th>\n",
              "      <td>4</td>\n",
              "      <td>3</td>\n",
              "      <td>15</td>\n",
              "    </tr>\n",
              "    <tr>\n",
              "      <th>4</th>\n",
              "      <td>5</td>\n",
              "      <td>3</td>\n",
              "      <td>6</td>\n",
              "    </tr>\n",
              "  </tbody>\n",
              "</table>\n",
              "</div>"
            ],
            "text/plain": [
              "   Edge ID  Node 1  Node 2\n",
              "0        1       1      18\n",
              "1        2       2      12\n",
              "2        3       8      12\n",
              "3        4       3      15\n",
              "4        5       3       6"
            ]
          },
          "metadata": {},
          "execution_count": 3
        }
      ]
    },
    {
      "cell_type": "markdown",
      "metadata": {
        "id": "wCm9c_-FAoJE"
      },
      "source": [
        "Represent as graph data structures ( nodes , edges )"
      ]
    },
    {
      "cell_type": "code",
      "metadata": {
        "colab": {
          "base_uri": "https://localhost:8080/"
        },
        "id": "UzqY_NfqG3ym",
        "outputId": "ee949a86-b9ea-4acf-d608-5913ca05f0d6"
      },
      "source": [
        "nodeList = node_list_df.values.tolist()\n",
        "labels = [nodeList[i][1] for i in range(len(nodeList))]\n",
        "nodeIds = [nodeList[i][0] for i in range(len(nodeList))]\n",
        "labelsDict = dict()\n",
        "for i in range(len(labels)):\n",
        "  labelsDict[nodeIds[i]] = labels[i]\n",
        "labelsDict"
      ],
      "execution_count": 4,
      "outputs": [
        {
          "output_type": "execute_result",
          "data": {
            "text/plain": [
              "{1: 'Aishvarya',\n",
              " 2: 'Bianca',\n",
              " 3: 'Deepthi',\n",
              " 4: 'Dhilip',\n",
              " 5: 'Harshini',\n",
              " 6: 'Indrajit',\n",
              " 7: 'Iswaryaa',\n",
              " 8: 'Jenitha',\n",
              " 9: 'Keerthi',\n",
              " 10: 'Mokshith',\n",
              " 11: 'Preetham',\n",
              " 12: 'Rishitha',\n",
              " 13: 'Roshini',\n",
              " 14: 'Sneha',\n",
              " 15: 'Swetha',\n",
              " 16: 'Vikasini',\n",
              " 17: 'Vikram',\n",
              " 18: 'Jana '}"
            ]
          },
          "metadata": {},
          "execution_count": 4
        }
      ]
    },
    {
      "cell_type": "code",
      "metadata": {
        "id": "KlO5DI7FAtXk"
      },
      "source": [
        "\n",
        "edgeList = edge_list_df.values.tolist()\n",
        "G = nx.Graph()\n",
        "G.add_nodes_from(nodeIds)\n",
        "for i in range(len(edgeList)):\n",
        "    G.add_edge(edgeList[i][1], edgeList[i][2])\n",
        "# and we can easily retrieve the adjacency matrix \n",
        "AdjMatrix = nx.adjacency_matrix(G).A\n",
        "\n",
        "nx.set_node_attributes(G, labels, \"labels\")"
      ],
      "execution_count": 5,
      "outputs": []
    },
    {
      "cell_type": "code",
      "metadata": {
        "colab": {
          "base_uri": "https://localhost:8080/"
        },
        "id": "hZZKbGuvDRcF",
        "outputId": "e67bb7c4-444c-472d-ca22-c7707e3e6d89"
      },
      "source": [
        "print(G.nodes())\n",
        "print(G.edges())"
      ],
      "execution_count": 6,
      "outputs": [
        {
          "output_type": "stream",
          "name": "stdout",
          "text": [
            "[1, 2, 3, 4, 5, 6, 7, 8, 9, 10, 11, 12, 13, 14, 15, 16, 17, 18]\n",
            "[(1, 18), (1, 15), (1, 14), (2, 12), (3, 15), (3, 6), (3, 7), (3, 16), (3, 5), (4, 6), (4, 11), (5, 15), (6, 9), (8, 12), (8, 10), (8, 17), (9, 13), (10, 11), (10, 15), (14, 15)]\n"
          ]
        }
      ]
    },
    {
      "cell_type": "markdown",
      "metadata": {
        "id": "KRCAXWNnAuOV"
      },
      "source": [
        "Visualise the graph with networkx library"
      ]
    },
    {
      "cell_type": "code",
      "metadata": {
        "colab": {
          "base_uri": "https://localhost:8080/",
          "height": 751
        },
        "id": "3WgfL63zA0RM",
        "outputId": "72e44cb5-1c1a-4553-d59b-3593310cf226"
      },
      "source": [
        "plt.figure(figsize=(10, 10))\n",
        "nx.draw(G, with_labels=True, labels = labelsDict)\n",
        "plt.savefig(\"visualise.png\")"
      ],
      "execution_count": 7,
      "outputs": [
        {
          "output_type": "display_data",
          "data": {
            "image/png": "[encoded data removed]",
            "text/plain": [
              "<Figure size 720x720 with 1 Axes>"
            ]
          },
          "metadata": {}
        }
      ]
    },
    {
      "cell_type": "code",
      "metadata": {
        "id": "Ynu3EgwFNFRO"
      },
      "source": [
        "#process interests as list of strings\n",
        "node_list_df['Interests'] = list(map(lambda x: x.split(', '), node_list_df['Interests'].values.tolist()))"
      ],
      "execution_count": 8,
      "outputs": []
    },
    {
      "cell_type": "code",
      "metadata": {
        "colab": {
          "base_uri": "https://localhost:8080/",
          "height": 203
        },
        "id": "Y4gxEC6cLEOe",
        "outputId": "3d2aa495-63f6-4b17-e08b-96700689d09b"
      },
      "source": [
        "# labelsDict\n",
        "node_list_df.head()\n"
      ],
      "execution_count": 9,
      "outputs": [
        {
          "output_type": "execute_result",
          "data": {
            "text/html": [
              "<div>\n",
              "<style scoped>\n",
              "    .dataframe tbody tr th:only-of-type {\n",
              "        vertical-align: middle;\n",
              "    }\n",
              "\n",
              "    .dataframe tbody tr th {\n",
              "        vertical-align: top;\n",
              "    }\n",
              "\n",
              "    .dataframe thead th {\n",
              "        text-align: right;\n",
              "    }\n",
              "</style>\n",
              "<table border=\"1\" class=\"dataframe\">\n",
              "  <thead>\n",
              "    <tr style=\"text-align: right;\">\n",
              "      <th></th>\n",
              "      <th>Node ID</th>\n",
              "      <th>Name</th>\n",
              "      <th>Location</th>\n",
              "      <th>Language</th>\n",
              "      <th>Occupation</th>\n",
              "      <th>School</th>\n",
              "      <th>Company</th>\n",
              "      <th>Interests</th>\n",
              "      <th>Age Group</th>\n",
              "    </tr>\n",
              "  </thead>\n",
              "  <tbody>\n",
              "    <tr>\n",
              "      <th>0</th>\n",
              "      <td>1</td>\n",
              "      <td>Aishvarya</td>\n",
              "      <td>Coimbatore</td>\n",
              "      <td>Tamil</td>\n",
              "      <td>Software Engineer</td>\n",
              "      <td>PSG</td>\n",
              "      <td>Microsoft</td>\n",
              "      <td>[Orator, Movies]</td>\n",
              "      <td>Young</td>\n",
              "    </tr>\n",
              "    <tr>\n",
              "      <th>1</th>\n",
              "      <td>2</td>\n",
              "      <td>Bianca</td>\n",
              "      <td>Chennai</td>\n",
              "      <td>Tamil</td>\n",
              "      <td>Software Engineer</td>\n",
              "      <td>PSG</td>\n",
              "      <td>Wipro</td>\n",
              "      <td>[Music, Books]</td>\n",
              "      <td>Young</td>\n",
              "    </tr>\n",
              "    <tr>\n",
              "      <th>2</th>\n",
              "      <td>3</td>\n",
              "      <td>Deepthi</td>\n",
              "      <td>Madurai</td>\n",
              "      <td>Tamil</td>\n",
              "      <td>Software Engineer</td>\n",
              "      <td>PSG</td>\n",
              "      <td>Delloite</td>\n",
              "      <td>[Movies, Music]</td>\n",
              "      <td>Young</td>\n",
              "    </tr>\n",
              "    <tr>\n",
              "      <th>3</th>\n",
              "      <td>4</td>\n",
              "      <td>Dhilip</td>\n",
              "      <td>Coimbatore</td>\n",
              "      <td>Telugu</td>\n",
              "      <td>Software Engineer</td>\n",
              "      <td>PSG</td>\n",
              "      <td>JPMC</td>\n",
              "      <td>[Tech, Quotes]</td>\n",
              "      <td>Young</td>\n",
              "    </tr>\n",
              "    <tr>\n",
              "      <th>4</th>\n",
              "      <td>5</td>\n",
              "      <td>Harshini</td>\n",
              "      <td>Ramanathapuram</td>\n",
              "      <td>Tamil</td>\n",
              "      <td>Software Engineer</td>\n",
              "      <td>PSG</td>\n",
              "      <td>Oracle</td>\n",
              "      <td>[Movies, Cooking]</td>\n",
              "      <td>Young</td>\n",
              "    </tr>\n",
              "  </tbody>\n",
              "</table>\n",
              "</div>"
            ],
            "text/plain": [
              "   Node ID       Name        Location  ...    Company          Interests Age Group\n",
              "0        1  Aishvarya      Coimbatore  ...  Microsoft   [Orator, Movies]     Young\n",
              "1        2     Bianca         Chennai  ...      Wipro     [Music, Books]     Young\n",
              "2        3    Deepthi         Madurai  ...   Delloite    [Movies, Music]     Young\n",
              "3        4     Dhilip      Coimbatore  ...       JPMC     [Tech, Quotes]     Young\n",
              "4        5   Harshini  Ramanathapuram  ...     Oracle  [Movies, Cooking]     Young\n",
              "\n",
              "[5 rows x 9 columns]"
            ]
          },
          "metadata": {},
          "execution_count": 9
        }
      ]
    },
    {
      "cell_type": "markdown",
      "metadata": {
        "id": "xjG7l4zkA0vP"
      },
      "source": [
        "Search the nodes for the most probable friends\n",
        "\n",
        "Possible logic...Brute force\n",
        "1. Calculate score for all nodes (not its friends already)\n",
        "\n",
        "  - same lang or location or company or interests (add 10 for each same thing)\n",
        "  - age group, occupation, school same now\n",
        "\n",
        "2. rank the scores of all nodes in descending order  "
      ]
    },
    {
      "cell_type": "code",
      "metadata": {
        "id": "ksSS6rpNBr87"
      },
      "source": [
        "def predict_for_node(NODEID):\n",
        "  columns=['Location', 'Language',  'Company', 'Occupation','School','Age Group']\n",
        "  score = [[nodeIds[i],0] for i in range(len(nodeIds))]\n",
        "  for i in nodeIds:\n",
        "    # print(i)\n",
        "    if G.has_edge(i,NODEID) or i == NODEID:\n",
        "      continue\n",
        "    else:\n",
        "      # find score \n",
        "      temp_score = 0\n",
        "      for col in columns:\n",
        "        if node_list_df.loc[i-1][col]==node_list_df.loc[NODEID-1][col]:\n",
        "          temp_score = temp_score + 10     \n",
        "              \n",
        "      interests_seta = set(node_list_df.loc[NODEID-1]['Interests'])\n",
        "      interests_setb = set(node_list_df.loc[i-1]['Interests'])\n",
        "      temp_score = temp_score +  0\n",
        "      score[i-1][1] = temp_score       \n",
        "      \n",
        "      # assume node id is always 1 more than 0 index\n",
        "      # Beware n check this part       \n",
        "\n",
        "  # sort the score array with descending score and print the order fo nodeIDs\n",
        "  result = sorted(score, key=lambda x:x[1], reverse = True)\n",
        "  print(\"Scores are \",result[0][1], result[1][1], result[2][1])\n",
        "  return [result[i][0] for i in range(len(result))]\n",
        "  \n",
        "\n",
        "\n",
        "\n"
      ],
      "execution_count": 25,
      "outputs": []
    },
    {
      "cell_type": "code",
      "metadata": {
        "colab": {
          "base_uri": "https://localhost:8080/"
        },
        "id": "DKnzr4zkVfgh",
        "outputId": "73d9ba6d-5c02-48e0-8dee-2c9c3fac1992"
      },
      "source": [
        "predicted_list = predict_for_node(11)\n",
        "\n",
        "for i in range(3):\n",
        "  print(labelsDict[predicted_list[i]])\n"
      ],
      "execution_count": 26,
      "outputs": [
        {
          "output_type": "stream",
          "name": "stdout",
          "text": [
            "Scores are  50 40 40\n",
            "Roshini\n",
            "Aishvarya\n",
            "Bianca\n"
          ]
        }
      ]
    }
  ]
}